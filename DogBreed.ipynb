{
  "nbformat": 4,
  "nbformat_minor": 0,
  "metadata": {
    "colab": {
      "name": "Untitled8.ipynb",
      "provenance": [],
      "mount_file_id": "1O9u8LFrt4HKn10PY6CKcHQZh5-jW_RLa",
      "authorship_tag": "ABX9TyO4NET6OMM8aF4IpJm/jcns",
      "include_colab_link": true
    },
    "kernelspec": {
      "name": "python3",
      "display_name": "Python 3"
    },
    "language_info": {
      "name": "python"
    },
    "accelerator": "GPU"
  },
  "cells": [
    {
      "cell_type": "markdown",
      "metadata": {
        "id": "view-in-github",
        "colab_type": "text"
      },
      "source": [
        "<a href=\"https://colab.research.google.com/github/andysingal/zero-mastery/blob/main/DogBreed.ipynb\" target=\"_parent\"><img src=\"https://colab.research.google.com/assets/colab-badge.svg\" alt=\"Open In Colab\"/></a>"
      ]
    },
    {
      "cell_type": "markdown",
      "metadata": {
        "id": "mx3ejVLRD_ub"
      },
      "source": [
        "#🐶 Using Transfer Learning and TensorFlow 2.0 to Classify Different Dog Breeds\n",
        "Who's that doggy in the window?\n",
        "\n",
        "Dogs are incredible. But have you ever been sitting at a cafe, seen a dog and not known what breed it is? I have. And then someone says, \"it's an English Terrier\" and you think, how did they know that?\n",
        "\n",
        "In this project we're going to be using machine learning to help us identify different breeds of dogs.\n",
        "\n",
        "To do this, we'll be using data from the Kaggle dog breed identification competition. It consists of a collection of 10,000+ labelled images of 120 different dog breeds.\n",
        "\n",
        "This kind of problem is called multi-class image classification. It's multi-class because we're trying to classify mutliple different breeds of dog. If we were only trying to classify dogs versus cats, it would be called binary classification (one thing versus another).\n",
        "\n",
        "Multi-class image classification is an important problem because it's the same kind of technology Tesla uses in their self-driving cars or Airbnb uses in atuomatically adding information to their listings.\n",
        "\n",
        "Since the most important step in a deep learng problem is getting the data ready (turning it into numbers), that's what we're going to start with.\n",
        "\n",
        "We're going to go through the following TensorFlow/Deep Learning workflow:\n",
        "\n",
        "Get data ready (download from Kaggle, store, import).\n",
        "Prepare the data (preprocessing, the 3 sets, X & y).\n",
        "Choose and fit/train a model (TensorFlow Hub, tf.keras.applications, TensorBoard, EarlyStopping).\n",
        "Evaluating a model (making predictions, comparing them with the ground truth labels).\n",
        "Improve the model through experimentation (start with 1000 images, make sure it works, increase the number of images).\n",
        "Save, sharing and reloading your model (once you're happy with the results).\n",
        "For preprocessing our data, we're going to use TensorFlow 2.x. The whole premise here is to get our data into Tensors (arrays of numbers which can be run on GPUs) and then allow a machine learning model to find patterns between them.\n",
        "\n",
        "For our machine learning model, we're going to be using a pretrained deep learning model from TensorFlow Hub.\n",
        "\n",
        "The process of using a pretrained model and adapting it to your own problem is called transfer learning. We do this because rather than train our own model from scratch (could be timely and expensive), we leverage the patterns of another model which has been trained to classify images."
      ]
    },
    {
      "cell_type": "markdown",
      "metadata": {
        "id": "IIYklBNlFD4R"
      },
      "source": [
        "#Getting our workspace ready\n",
        "Before we get started, since we'll be using TensorFlow 2.x and TensorFlow Hub (TensorFlow Hub), let's import them.\n",
        "\n",
        "NOTE: Don't run the cell below if you're already using TF 2.x."
      ]
    },
    {
      "cell_type": "code",
      "metadata": {
        "id": "dmtsAVx7E9SX"
      },
      "source": [
        "# Import TF 2.x\n",
        "try:\n",
        "  # %tensorflow_version only exists in Colab\n",
        "  %tensorflow_version 2.x\n",
        "except Exception:\n",
        "  pass"
      ],
      "execution_count": 2,
      "outputs": []
    },
    {
      "cell_type": "code",
      "metadata": {
        "colab": {
          "base_uri": "https://localhost:8080/"
        },
        "id": "Q6idud8l5Cbm",
        "outputId": "c2014587-3ba6-4e89-efd6-24d222fe5831"
      },
      "source": [
        "import tensorflow as tf\n",
        "import tensorflow_hub as hub\n",
        "\n",
        "print(\"TF version:\", tf.__version__)\n",
        "print(\"Hub version:\", hub.__version__)\n",
        "\n",
        "# Check for GPU\n",
        "print(\"GPU\", \"available (YESS!!!!)\" if tf.config.list_physical_devices(\"GPU\") else \"not available :(\")"
      ],
      "execution_count": 5,
      "outputs": [
        {
          "output_type": "stream",
          "text": [
            "TF version: 2.4.1\n",
            "Hub version: 0.12.0\n",
            "GPU available (YESS!!!!)\n"
          ],
          "name": "stdout"
        }
      ]
    },
    {
      "cell_type": "markdown",
      "metadata": {
        "id": "7MwCM1zSH7jO"
      },
      "source": [
        "#Getting data ready\n",
        "Since much of machine learning is getting your data ready to be used with a machine learning model, we'll take extra care getting it setup.\n",
        "\n",
        "There are a few ways we could do this. Many of them are detailed in the Google Colab notebook on I/O (input and output).\n",
        "\n",
        "And because the data we're using is hosted on Kaggle, we could even use the Kaggle API.\n",
        "\n",
        "This is great but what if the data you want to use wasn't on Kaggle?\n",
        "\n",
        "One method is to upload it to your Google Drive, mount your drive in this notebook and import the file."
      ]
    },
    {
      "cell_type": "code",
      "metadata": {
        "colab": {
          "base_uri": "https://localhost:8080/"
        },
        "id": "27yesVj85Krq",
        "outputId": "4a4c2a92-8ff9-4de3-def1-94bb92ea96dc"
      },
      "source": [
        "# Running this cell will provide you with a token to link your drive to this notebook\n",
        "from google.colab import drive\n",
        "drive.mount('/content/drive')"
      ],
      "execution_count": 6,
      "outputs": [
        {
          "output_type": "stream",
          "text": [
            "Drive already mounted at /content/drive; to attempt to forcibly remount, call drive.mount(\"/content/drive\", force_remount=True).\n"
          ],
          "name": "stdout"
        }
      ]
    },
    {
      "cell_type": "code",
      "metadata": {
        "id": "2CF8kSx4IFEa"
      },
      "source": [
        ""
      ],
      "execution_count": null,
      "outputs": []
    }
  ]
}